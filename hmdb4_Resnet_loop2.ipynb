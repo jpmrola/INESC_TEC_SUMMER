{
  "nbformat": 4,
  "nbformat_minor": 0,
  "metadata": {
    "colab": {
      "name": "hmdb4_Resnet.ipynb",
      "provenance": [],
      "collapsed_sections": []
    },
    "kernelspec": {
      "name": "python3",
      "display_name": "Python 3"
    },
    "language_info": {
      "name": "python"
    },
    "accelerator": "GPU",
    "widgets": {
      "application/vnd.jupyter.widget-state+json": {
        "f47cecfc9e4d41d2be92df57503bbdf7": {
          "model_module": "@jupyter-widgets/controls",
          "model_name": "HBoxModel",
          "state": {
            "_view_name": "HBoxView",
            "_dom_classes": [],
            "_model_name": "HBoxModel",
            "_view_module": "@jupyter-widgets/controls",
            "_model_module_version": "1.5.0",
            "_view_count": null,
            "_view_module_version": "1.5.0",
            "box_style": "",
            "layout": "IPY_MODEL_14b650e0658149f1a66aa63859d945cc",
            "_model_module": "@jupyter-widgets/controls",
            "children": [
              "IPY_MODEL_afba458d47b04af1928b62038db12c2d",
              "IPY_MODEL_3bd0771de8af413b8e1a657a376813ad"
            ]
          }
        },
        "14b650e0658149f1a66aa63859d945cc": {
          "model_module": "@jupyter-widgets/base",
          "model_name": "LayoutModel",
          "state": {
            "_view_name": "LayoutView",
            "grid_template_rows": null,
            "right": null,
            "justify_content": null,
            "_view_module": "@jupyter-widgets/base",
            "overflow": null,
            "_model_module_version": "1.2.0",
            "_view_count": null,
            "flex_flow": null,
            "width": null,
            "min_width": null,
            "border": null,
            "align_items": null,
            "bottom": null,
            "_model_module": "@jupyter-widgets/base",
            "top": null,
            "grid_column": null,
            "overflow_y": null,
            "overflow_x": null,
            "grid_auto_flow": null,
            "grid_area": null,
            "grid_template_columns": null,
            "flex": null,
            "_model_name": "LayoutModel",
            "justify_items": null,
            "grid_row": null,
            "max_height": null,
            "align_content": null,
            "visibility": null,
            "align_self": null,
            "height": null,
            "min_height": null,
            "padding": null,
            "grid_auto_rows": null,
            "grid_gap": null,
            "max_width": null,
            "order": null,
            "_view_module_version": "1.2.0",
            "grid_template_areas": null,
            "object_position": null,
            "object_fit": null,
            "grid_auto_columns": null,
            "margin": null,
            "display": null,
            "left": null
          }
        },
        "afba458d47b04af1928b62038db12c2d": {
          "model_module": "@jupyter-widgets/controls",
          "model_name": "FloatProgressModel",
          "state": {
            "_view_name": "ProgressView",
            "style": "IPY_MODEL_89d9201fe6c04d34806ef36bab3f068c",
            "_dom_classes": [],
            "description": "100%",
            "_model_name": "FloatProgressModel",
            "bar_style": "success",
            "max": 133546016,
            "_view_module": "@jupyter-widgets/controls",
            "_model_module_version": "1.5.0",
            "value": 133546016,
            "_view_count": null,
            "_view_module_version": "1.5.0",
            "orientation": "horizontal",
            "min": 0,
            "description_tooltip": null,
            "_model_module": "@jupyter-widgets/controls",
            "layout": "IPY_MODEL_32811678e476448a89904b5f4891e783"
          }
        },
        "3bd0771de8af413b8e1a657a376813ad": {
          "model_module": "@jupyter-widgets/controls",
          "model_name": "HTMLModel",
          "state": {
            "_view_name": "HTMLView",
            "style": "IPY_MODEL_6d8bdb3f8cb040a5b1721540adc6b6dd",
            "_dom_classes": [],
            "description": "",
            "_model_name": "HTMLModel",
            "placeholder": "​",
            "_view_module": "@jupyter-widgets/controls",
            "_model_module_version": "1.5.0",
            "value": " 127M/127M [02:10&lt;00:00, 1.03MB/s]",
            "_view_count": null,
            "_view_module_version": "1.5.0",
            "description_tooltip": null,
            "_model_module": "@jupyter-widgets/controls",
            "layout": "IPY_MODEL_1be857656aaf4c09baab02d264a81cdc"
          }
        },
        "89d9201fe6c04d34806ef36bab3f068c": {
          "model_module": "@jupyter-widgets/controls",
          "model_name": "ProgressStyleModel",
          "state": {
            "_view_name": "StyleView",
            "_model_name": "ProgressStyleModel",
            "description_width": "initial",
            "_view_module": "@jupyter-widgets/base",
            "_model_module_version": "1.5.0",
            "_view_count": null,
            "_view_module_version": "1.2.0",
            "bar_color": null,
            "_model_module": "@jupyter-widgets/controls"
          }
        },
        "32811678e476448a89904b5f4891e783": {
          "model_module": "@jupyter-widgets/base",
          "model_name": "LayoutModel",
          "state": {
            "_view_name": "LayoutView",
            "grid_template_rows": null,
            "right": null,
            "justify_content": null,
            "_view_module": "@jupyter-widgets/base",
            "overflow": null,
            "_model_module_version": "1.2.0",
            "_view_count": null,
            "flex_flow": null,
            "width": null,
            "min_width": null,
            "border": null,
            "align_items": null,
            "bottom": null,
            "_model_module": "@jupyter-widgets/base",
            "top": null,
            "grid_column": null,
            "overflow_y": null,
            "overflow_x": null,
            "grid_auto_flow": null,
            "grid_area": null,
            "grid_template_columns": null,
            "flex": null,
            "_model_name": "LayoutModel",
            "justify_items": null,
            "grid_row": null,
            "max_height": null,
            "align_content": null,
            "visibility": null,
            "align_self": null,
            "height": null,
            "min_height": null,
            "padding": null,
            "grid_auto_rows": null,
            "grid_gap": null,
            "max_width": null,
            "order": null,
            "_view_module_version": "1.2.0",
            "grid_template_areas": null,
            "object_position": null,
            "object_fit": null,
            "grid_auto_columns": null,
            "margin": null,
            "display": null,
            "left": null
          }
        },
        "6d8bdb3f8cb040a5b1721540adc6b6dd": {
          "model_module": "@jupyter-widgets/controls",
          "model_name": "DescriptionStyleModel",
          "state": {
            "_view_name": "StyleView",
            "_model_name": "DescriptionStyleModel",
            "description_width": "",
            "_view_module": "@jupyter-widgets/base",
            "_model_module_version": "1.5.0",
            "_view_count": null,
            "_view_module_version": "1.2.0",
            "_model_module": "@jupyter-widgets/controls"
          }
        },
        "1be857656aaf4c09baab02d264a81cdc": {
          "model_module": "@jupyter-widgets/base",
          "model_name": "LayoutModel",
          "state": {
            "_view_name": "LayoutView",
            "grid_template_rows": null,
            "right": null,
            "justify_content": null,
            "_view_module": "@jupyter-widgets/base",
            "overflow": null,
            "_model_module_version": "1.2.0",
            "_view_count": null,
            "flex_flow": null,
            "width": null,
            "min_width": null,
            "border": null,
            "align_items": null,
            "bottom": null,
            "_model_module": "@jupyter-widgets/base",
            "top": null,
            "grid_column": null,
            "overflow_y": null,
            "overflow_x": null,
            "grid_auto_flow": null,
            "grid_area": null,
            "grid_template_columns": null,
            "flex": null,
            "_model_name": "LayoutModel",
            "justify_items": null,
            "grid_row": null,
            "max_height": null,
            "align_content": null,
            "visibility": null,
            "align_self": null,
            "height": null,
            "min_height": null,
            "padding": null,
            "grid_auto_rows": null,
            "grid_gap": null,
            "max_width": null,
            "order": null,
            "_view_module_version": "1.2.0",
            "grid_template_areas": null,
            "object_position": null,
            "object_fit": null,
            "grid_auto_columns": null,
            "margin": null,
            "display": null,
            "left": null
          }
        }
      }
    }
  },
  "cells": [
    {
      "cell_type": "markdown",
      "metadata": {
        "id": "MbB7vFq9QoRR"
      },
      "source": [
        "Buscar pasta Google Drive"
      ]
    },
    {
      "cell_type": "code",
      "metadata": {
        "id": "ZvFWu9Ir7xTa",
        "colab": {
          "base_uri": "https://localhost:8080/"
        },
        "outputId": "a19d606b-f822-4d71-b06c-3ea2136509dc"
      },
      "source": [
        "from google.colab import drive\n",
        "drive.mount('/content/drive')"
      ],
      "execution_count": 1,
      "outputs": [
        {
          "output_type": "stream",
          "text": [
            "Mounted at /content/drive\n"
          ],
          "name": "stdout"
        }
      ]
    },
    {
      "cell_type": "markdown",
      "metadata": {
        "id": "WVvrmWiqL3N2"
      },
      "source": [
        "Importar Libs..."
      ]
    },
    {
      "cell_type": "code",
      "metadata": {
        "id": "nHf-YwI6WzIp"
      },
      "source": [
        "from __future__ import print_function, division\n",
        "\n",
        "import torch\n",
        "import torch.nn as nn\n",
        "import torch.optim as optim\n",
        "from torch.optim import lr_scheduler\n",
        "import numpy as np\n",
        "import torchvision\n",
        "from torchvision import datasets, models, transforms\n",
        "from torchvision.datasets import HMDB51\n",
        "from torch.utils.data import Dataset, DataLoader\n",
        "import matplotlib.pyplot as plt\n",
        "import time\n",
        "import pandas as pd\n",
        "import os\n",
        "import random\n",
        "from tqdm import tqdm\n",
        "from PIL import Image\n",
        "import copy\n",
        "import json\n"
      ],
      "execution_count": 2,
      "outputs": []
    },
    {
      "cell_type": "markdown",
      "metadata": {
        "id": "VAT3I-59P1fD"
      },
      "source": [
        "Dataset Class"
      ]
    },
    {
      "cell_type": "code",
      "metadata": {
        "id": "o9c1hBM6P5rr"
      },
      "source": [
        "class FrameDataset(Dataset):\n",
        "    def __init__(self, csv_file, root_dir):\n",
        "        self.frames_csv = pd.read_csv(csv_file)\n",
        "        self.root_dir = root_dir\n",
        "        self.slice_size = 10\n",
        "\n",
        "    def __len__(self):\n",
        "        return len(self.frames_csv)\n",
        "\n",
        "    def __getitem__(self, idx):\n",
        "        if torch.is_tensor(idx):\n",
        "            idx = idx.tolist()\n",
        "\n",
        "        # need to take 10 frames and stack them on 1 tensor\n",
        "        # ()-> second index has to be 1 because id column (3 columns)\n",
        "        # ()-> why have to be NOT??? is wrong!! but works..\n",
        "        all_frames = [f for f in os.listdir(os.path.join(self.root_dir, str(self.frames_csv.iloc[idx, 0]))) if\n",
        "                      not os.path.isfile(f)]\n",
        "        # random get 10 consecutive frames from all video frames in folder\n",
        "        if len(all_frames) > (self.slice_size):\n",
        "            start = random.randrange(len(all_frames) - self.slice_size)\n",
        "            frames = all_frames[start: start + self.slice_size]\n",
        "        else:\n",
        "            frames = all_frames\n",
        "\n",
        "        images = []\n",
        "        # load the images\n",
        "        for frame in frames:\n",
        "            path = os.path.join(self.root_dir, str(self.frames_csv.iloc[idx, 0])) + '/' + frame\n",
        "            images.append(Image.open(path).convert('RGB'))\n",
        "        transform = transforms.Compose([\n",
        "            transforms.Resize((240, 320), ),\n",
        "            transforms.ToTensor(),\n",
        "            transforms.Normalize(mean=[0.43216, 0.394666, 0.37645], std=[0.22803, 0.22145, 0.216989])])\n",
        "        # apply tansforms and condense all the images in 1 tensor\n",
        "        tensors = []\n",
        "        for image in images:\n",
        "            tensors.append(transform(image))\n",
        "        final_image = torch.stack(tensors, dim=1)\n",
        "        tag = int(self.frames_csv.iloc[idx, 1])\n",
        "        return final_image, tag"
      ],
      "execution_count": 4,
      "outputs": []
    },
    {
      "cell_type": "markdown",
      "metadata": {
        "id": "2gujZUOiM9lT"
      },
      "source": [
        "Criar Dataset e Dataloader"
      ]
    },
    {
      "cell_type": "code",
      "metadata": {
        "id": "qzLTPcQ3M9Fw"
      },
      "source": [
        "# hmdb_data_dir = \"/home/jrola/PycharmProjects/pytorch_CTM/data/hmdb4_org\"\n",
        "# hmdb_label_dir = \"/home/jrola/PycharmProjects/pytorch_CTM/data/testTrainMulti_7030_splits\"\n",
        "hmdb_frames_dir = \"/content/drive/MyDrive/Estágio/hmdb4_frames\"\n",
        "train_labels = \"/content/drive/MyDrive/Estágio/data_jrola/hmdb4_labels80.csv\"\n",
        "test_labels = \"/content/drive/MyDrive/Estágio/data_jrola/hmdb4_labels20.csv\"\n",
        "\n",
        "batch_size = 5\n",
        "\n",
        "# create train loader (allowing batches and other extras)\n",
        "# train_dataset = HMDB51(hmdb_data_dir, hmdb_label_dir, frames_per_clip=frames_per_clip, step_between_clips=step_between_clips, train=True, transform=tfs)\n",
        "train_dataset = FrameDataset(\n",
        "    csv_file=train_labels,\n",
        "    root_dir=hmdb_frames_dir,\n",
        ")\n",
        "train_dataloader = DataLoader(dataset=train_dataset, batch_size=batch_size, shuffle=True)\n",
        "\n",
        "# create test loader (allowing batches and other extras)\n",
        "# test_dataset =  HMDB51(hmdb_data_dir, hmdb_label_dir, frames_per_clip=frames_per_clip, step_between_clips=step_between_clips, train=False, transform=tfs)\n",
        "test_dataset = FrameDataset(\n",
        "    csv_file=test_labels,\n",
        "    root_dir=hmdb_frames_dir,\n",
        ")\n",
        "test_dataloader = DataLoader(dataset=test_dataset, batch_size=batch_size, shuffle=True)\n",
        "\n",
        "device = torch.device(\"cuda:0\" if torch.cuda.is_available() else \"cpu\")\n"
      ],
      "execution_count": 5,
      "outputs": []
    },
    {
      "cell_type": "markdown",
      "metadata": {
        "id": "ovWP74iIN0OQ"
      },
      "source": [
        "Treino do modelo"
      ]
    },
    {
      "cell_type": "code",
      "metadata": {
        "id": "YWptgWgON-b5"
      },
      "source": [
        "\n",
        "# Train Network\n",
        "def train_model(model, criterion, optimizer, scheduler, stats, num_epochs=4):\n",
        "    since = time.time()\n",
        "\n",
        "    best_model_wts = copy.deepcopy(model.state_dict())\n",
        "    best_acc = 0.0\n",
        "\n",
        "    for epoch in range(num_epochs):\n",
        "        print('Epoch {}/{}'.format(epoch, num_epochs - 1))\n",
        "        print('-' * 10)\n",
        "\n",
        "        # Each epoch has a training and validation phase\n",
        "        for phase in ['train', 'val']:\n",
        "            if phase == 'train':\n",
        "                model.train()  # Set model to training mode\n",
        "            else:\n",
        "                model.eval()  # Set model to evaluate mode\n",
        "\n",
        "            running_loss = 0.0\n",
        "            running_corrects = 0\n",
        "\n",
        "            # Iterate over data.\n",
        "            if phase == 'train':\n",
        "                data, tag = next(iter(train_dataloader))\n",
        "                for data, tag in tqdm(train_dataloader):\n",
        "                    data = data.to(device)\n",
        "                    tag = tag.to(device)\n",
        "\n",
        "                    # zero the parameter gradients\n",
        "                    optimizer.zero_grad()\n",
        "\n",
        "                    # forward\n",
        "                    # track history if only in train\n",
        "                    with torch.set_grad_enabled(phase == 'train'):\n",
        "                        outputs = model(data)\n",
        "                        _, preds = torch.max(outputs, 1)\n",
        "                        loss = criterion(outputs, tag)\n",
        "                        # backward + optimize only if in training phase\n",
        "                        loss.backward()\n",
        "                        optimizer.step()\n",
        "\n",
        "                    # statistics\n",
        "                    running_loss += loss.item() * data.size(0)\n",
        "                    running_corrects += torch.sum(preds == tag)\n",
        "\n",
        "                    scheduler.step()\n",
        "                    # unindent this!\n",
        "                epoch_loss = running_loss / len(train_dataset)\n",
        "                epoch_acc = running_corrects.double() / len(train_dataset)\n",
        "                stats[phase + '_loss'].append(float(epoch_loss))\n",
        "                stats[phase + '_acc'].append(float(epoch_acc))\n",
        "            else:\n",
        "                for data, tag in tqdm(test_dataloader):\n",
        "                    data, tag = next(iter(test_dataloader))\n",
        "                    data = data.to(device)\n",
        "                    tag = tag.to(device)\n",
        "\n",
        "                    # zero the parameter gradients\n",
        "                    optimizer.zero_grad()\n",
        "\n",
        "                    # forward\n",
        "                    # track history if only in train\n",
        "                    with torch.set_grad_enabled(phase == 'train'):\n",
        "                        outputs = model(data)\n",
        "                        _, preds = torch.max(outputs, 1)\n",
        "                        loss = criterion(outputs, tag)\n",
        "\n",
        "                    # statistics\n",
        "                    running_loss += loss.item() * data.size(0)\n",
        "                    running_corrects += torch.sum(preds == tag)\n",
        "                    # unindent this!\n",
        "                epoch_loss = running_loss / len(test_dataloader)\n",
        "                epoch_acc = running_corrects.double() / len(test_dataset)\n",
        "                stats[phase + '_loss'].append(float(epoch_loss))\n",
        "                stats[phase + '_acc'].append(float(epoch_acc))\n",
        "\n",
        "            print('{} Loss: {:.4f} Acc: {:.4f}'.format(\n",
        "                phase, epoch_loss, epoch_acc))\n",
        "\n",
        "            # deep copy the model\n",
        "            if phase == 'val' and epoch_acc > best_acc:\n",
        "                best_acc = epoch_acc\n",
        "                best_model_wts = copy.deepcopy(model.state_dict())\n",
        "\n",
        "        print()\n",
        "\n",
        "    time_elapsed = time.time() - since\n",
        "    print('Training complete in {:.0f}m {:.0f}s'.format(\n",
        "        time_elapsed // 60, time_elapsed % 60))\n",
        "    print('Best val Acc: {:4f}'.format(best_acc))\n",
        "\n",
        "    # load best model weights\n",
        "    model.load_state_dict(best_model_wts)\n",
        "    return model\n"
      ],
      "execution_count": 24,
      "outputs": []
    },
    {
      "cell_type": "markdown",
      "metadata": {
        "id": "9IbDSE6n0mfX"
      },
      "source": [
        "Função loop alternativa"
      ]
    },
    {
      "cell_type": "code",
      "metadata": {
        "id": "qBSEBrnP0o5f"
      },
      "source": [
        "def train_loop(dataloader, model, loss_fn, optimizer, stats):\n",
        "    size = len(dataloader.dataset)\n",
        "    count = 0\n",
        "    for X,y in tqdm(dataloader):\n",
        "        X = X.to(device)\n",
        "        y = y.to(device)\n",
        "        # Compute prediction and loss\n",
        "        pred = model(X)\n",
        "        loss = loss_fn(pred, y)\n",
        "\n",
        "        # Backpropagation\n",
        "        optimizer.zero_grad()\n",
        "        loss.backward()\n",
        "        optimizer.step()\n",
        "        stats['train_loss'].append(loss.item())\n",
        "        if count % 100 == 0:\n",
        "            loss = loss.item()\n",
        "            print(f\"loss: {loss:>7f}\")\n",
        "        count += 1\n",
        "\n",
        "def test_loop(dataloader, model, loss_fn, stats):\n",
        "    size = len(dataloader.dataset)\n",
        "    num_batches = len(dataloader)\n",
        "    test_loss, correct = 0, 0\n",
        "\n",
        "    with torch.no_grad():\n",
        "        for X, y in tqdm(dataloader):\n",
        "            X = X.to(device)\n",
        "            y = y.to(device)\n",
        "            pred = model(X)\n",
        "            test_loss += loss_fn(pred, y).item()\n",
        "            correct += (pred.argmax(1) == y).type(torch.float).sum().item()\n",
        "\n",
        "    test_loss /= num_batches\n",
        "    correct /= size\n",
        "    stats['val_loss'].append(test_loss)\n",
        "    stats['val_acc'].append(correct)\n",
        "    print(f\"Test Error: \\n Accuracy: {(100*correct):>0.1f}%, Avg loss: {test_loss:>8f} \\n\")"
      ],
      "execution_count": 11,
      "outputs": []
    },
    {
      "cell_type": "markdown",
      "metadata": {
        "id": "TpqMxaQhOBPB"
      },
      "source": [
        "Parametrizar o modelo"
      ]
    },
    {
      "cell_type": "code",
      "metadata": {
        "colab": {
          "base_uri": "https://localhost:8080/",
          "height": 83,
          "referenced_widgets": [
            "f47cecfc9e4d41d2be92df57503bbdf7",
            "14b650e0658149f1a66aa63859d945cc",
            "afba458d47b04af1928b62038db12c2d",
            "3bd0771de8af413b8e1a657a376813ad",
            "89d9201fe6c04d34806ef36bab3f068c",
            "32811678e476448a89904b5f4891e783",
            "6d8bdb3f8cb040a5b1721540adc6b6dd",
            "1be857656aaf4c09baab02d264a81cdc"
          ]
        },
        "id": "8L6xUf-mOO8n",
        "outputId": "9d3b7c36-82dd-4995-b4f1-cc144cc26237"
      },
      "source": [
        "## prepare the model\n",
        "\n",
        "\n",
        "class_name_to_label_path = '/content/drive/MyDrive/Estágio/class_name_to_label_4.json'\n",
        "f = open(class_name_to_label_path)\n",
        "classes = json.load(f)\n",
        "f.close()\n",
        "\n",
        "model_ft = torchvision.models.video.r3d_18(pretrained=True, progress=True)\n",
        "\n",
        "# Here the size of each output sample is set to 2.\n",
        "# Alternatively, it can be generalized to nn.Linear(num_ftrs, len(class_names)).\n",
        "model_ft.fc = nn.Linear(512, len(classes))\n",
        "\n",
        "model_ft = model_ft.to(device)\n",
        "\n",
        "criterion = nn.CrossEntropyLoss()\n",
        "\n",
        "# Observe that all parameters are being optimized\n",
        "optimizer_ft = torch.optim.Adam(model_ft.parameters(), lr=0.001, betas=(0.9, 0.999), eps=1e-08, weight_decay=0,\n",
        "                                amsgrad=False)\n",
        "\n",
        "# Decay LR by a factor of 0.1 every 7 epochs\n",
        "exp_lr_scheduler = lr_scheduler.StepLR(optimizer_ft, step_size=2, gamma=0.1)\n"
      ],
      "execution_count": 7,
      "outputs": [
        {
          "output_type": "stream",
          "text": [
            "Downloading: \"https://download.pytorch.org/models/r3d_18-b3b3357e.pth\" to /root/.cache/torch/hub/checkpoints/r3d_18-b3b3357e.pth\n"
          ],
          "name": "stderr"
        },
        {
          "output_type": "display_data",
          "data": {
            "application/vnd.jupyter.widget-view+json": {
              "model_id": "f47cecfc9e4d41d2be92df57503bbdf7",
              "version_minor": 0,
              "version_major": 2
            },
            "text/plain": [
              "HBox(children=(FloatProgress(value=0.0, max=133546016.0), HTML(value='')))"
            ]
          },
          "metadata": {
            "tags": []
          }
        },
        {
          "output_type": "stream",
          "text": [
            "\n"
          ],
          "name": "stdout"
        }
      ]
    },
    {
      "cell_type": "markdown",
      "metadata": {
        "id": "0XPz8lmhRbws"
      },
      "source": [
        "Correr o loop treino"
      ]
    },
    {
      "cell_type": "code",
      "metadata": {
        "colab": {
          "base_uri": "https://localhost:8080/",
          "height": 198
        },
        "id": "AZXTz78JRWhr",
        "outputId": "69e3be35-7f1b-4f1d-e6a8-a9ccc874b961"
      },
      "source": [
        "## train and evaluate\n",
        "\n",
        "stats = {'train_loss': [], 'train_acc': [], 'val_loss': [], 'val_acc': []}\n",
        "num_epochs = 4\n",
        "model_ft = train_model(model_ft, criterion, optimizer_ft, exp_lr_scheduler, stats, num_epochs)"
      ],
      "execution_count": 8,
      "outputs": [
        {
          "output_type": "error",
          "ename": "NameError",
          "evalue": "ignored",
          "traceback": [
            "\u001b[0;31m---------------------------------------------------------------------------\u001b[0m",
            "\u001b[0;31mNameError\u001b[0m                                 Traceback (most recent call last)",
            "\u001b[0;32m<ipython-input-8-a41e40928bd8>\u001b[0m in \u001b[0;36m<module>\u001b[0;34m()\u001b[0m\n\u001b[1;32m      3\u001b[0m \u001b[0mstats\u001b[0m \u001b[0;34m=\u001b[0m \u001b[0;34m{\u001b[0m\u001b[0;34m'train_loss'\u001b[0m\u001b[0;34m:\u001b[0m \u001b[0;34m[\u001b[0m\u001b[0;34m]\u001b[0m\u001b[0;34m,\u001b[0m \u001b[0;34m'train_acc'\u001b[0m\u001b[0;34m:\u001b[0m \u001b[0;34m[\u001b[0m\u001b[0;34m]\u001b[0m\u001b[0;34m,\u001b[0m \u001b[0;34m'val_loss'\u001b[0m\u001b[0;34m:\u001b[0m \u001b[0;34m[\u001b[0m\u001b[0;34m]\u001b[0m\u001b[0;34m,\u001b[0m \u001b[0;34m'val_acc'\u001b[0m\u001b[0;34m:\u001b[0m \u001b[0;34m[\u001b[0m\u001b[0;34m]\u001b[0m\u001b[0;34m}\u001b[0m\u001b[0;34m\u001b[0m\u001b[0;34m\u001b[0m\u001b[0m\n\u001b[1;32m      4\u001b[0m \u001b[0mnum_epochs\u001b[0m \u001b[0;34m=\u001b[0m \u001b[0;36m4\u001b[0m\u001b[0;34m\u001b[0m\u001b[0;34m\u001b[0m\u001b[0m\n\u001b[0;32m----> 5\u001b[0;31m \u001b[0mmodel_ft\u001b[0m \u001b[0;34m=\u001b[0m \u001b[0mtrain_model\u001b[0m\u001b[0;34m(\u001b[0m\u001b[0mmodel_ft\u001b[0m\u001b[0;34m,\u001b[0m \u001b[0mcriterion\u001b[0m\u001b[0;34m,\u001b[0m \u001b[0moptimizer_ft\u001b[0m\u001b[0;34m,\u001b[0m \u001b[0mexp_lr_scheduler\u001b[0m\u001b[0;34m,\u001b[0m \u001b[0mstats\u001b[0m\u001b[0;34m,\u001b[0m \u001b[0mnum_epochs\u001b[0m\u001b[0;34m)\u001b[0m\u001b[0;34m\u001b[0m\u001b[0;34m\u001b[0m\u001b[0m\n\u001b[0m",
            "\u001b[0;31mNameError\u001b[0m: name 'train_model' is not defined"
          ]
        }
      ]
    },
    {
      "cell_type": "markdown",
      "metadata": {
        "id": "lQAHYBZ51V7B"
      },
      "source": [
        "Loop alternativo"
      ]
    },
    {
      "cell_type": "code",
      "metadata": {
        "colab": {
          "base_uri": "https://localhost:8080/"
        },
        "id": "3_Ob5OYI1YZB",
        "outputId": "2b8cffae-0740-4379-910c-cd057f78cea0"
      },
      "source": [
        "stats = {'train_loss':[], 'val_loss':[], 'val_acc':[]}\n",
        "num_epochs=3\n",
        "for t in range(num_epochs):\n",
        "    print(f\"Epoch {t+1}\\n-------------------------------\")\n",
        "    train_loop(train_dataloader, model_ft, criterion, optimizer_ft, stats)\n",
        "    test_loop(validate_dataloader, model_ft, criterion, stats)\n",
        "print(\"Done!\")"
      ],
      "execution_count": null,
      "outputs": [
        {
          "output_type": "stream",
          "text": [
            "\r  0%|          | 0/95 [00:00<?, ?it/s]"
          ],
          "name": "stderr"
        },
        {
          "output_type": "stream",
          "text": [
            "Epoch 1\n",
            "-------------------------------\n"
          ],
          "name": "stdout"
        },
        {
          "output_type": "stream",
          "text": [
            "\r  1%|          | 1/95 [00:17<27:45, 17.72s/it]"
          ],
          "name": "stderr"
        },
        {
          "output_type": "stream",
          "text": [
            "loss: 0.817263\n"
          ],
          "name": "stdout"
        },
        {
          "output_type": "stream",
          "text": [
            " 21%|██        | 20/95 [06:05<22:23, 17.91s/it]"
          ],
          "name": "stderr"
        }
      ]
    },
    {
      "cell_type": "markdown",
      "metadata": {
        "id": "c03BoJt0OSnW"
      },
      "source": [
        "Print estatísticas"
      ]
    },
    {
      "cell_type": "code",
      "metadata": {
        "colab": {
          "base_uri": "https://localhost:8080/",
          "height": 731
        },
        "id": "1ZJAIRUaOUng",
        "outputId": "48d40aff-e2a0-475d-fe79-deb158be960e"
      },
      "source": [
        "## Show results graphs\n",
        "\n",
        "fig, ax = plt.subplots(figsize=(12, 6))\n",
        "x = np.arange(0, 10, 0.1)\n",
        "y = stats['train_loss']\n",
        "z = stats['val_loss']\n",
        "ax.plot(y, color='blue')\n",
        "ax.plot(z, color='grey')\n",
        "plt.show()\n",
        "\n",
        "fig, ax = plt.subplots(figsize=(12, 6))\n",
        "y = stats['train_acc']\n",
        "z = stats['val_acc']\n",
        "ax.plot(y, color='blue')\n",
        "ax.plot(z, color='grey')\n",
        "plt.show()\n"
      ],
      "execution_count": 27,
      "outputs": [
        {
          "output_type": "display_data",
          "data": {
            "image/png": "[encoded data removed]",
            "text/plain": [
              "<Figure size 864x432 with 1 Axes>"
            ]
          },
          "metadata": {
            "tags": [],
            "needs_background": "light"
          }
        },
        {
          "output_type": "display_data",
          "data": {
            "image/png": "[encoded data removed]",
            "text/plain": [
              "<Figure size 864x432 with 1 Axes>"
            ]
          },
          "metadata": {
            "tags": [],
            "needs_background": "light"
          }
        }
      ]
    }
  ]
}